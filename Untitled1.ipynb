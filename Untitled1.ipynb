{
  "cells": [
    {
      "cell_type": "code",
      "execution_count": null,
      "metadata": {},
      "outputs": [],
      "source": [
        "%pip install numpy \n"
      ]
    },
    {
      "cell_type": "code",
      "execution_count": null,
      "metadata": {},
      "outputs": [],
      "source": [
        "%pip install  tensorflow "
      ]
    },
    {
      "cell_type": "code",
      "execution_count": null,
      "metadata": {},
      "outputs": [],
      "source": [
        "%pip install keras"
      ]
    },
    {
      "cell_type": "code",
      "execution_count": null,
      "metadata": {},
      "outputs": [],
      "source": [
        "%pip install cv2"
      ]
    },
    {
      "cell_type": "code",
      "execution_count": null,
      "metadata": {
        "id": "DD7EpUoeeWCE"
      },
      "outputs": [],
      "source": [
        "#импортируем библиотеки и модули\n",
        "import numpy as np\n",
        "import pandas as pd\n",
        "import pathlib\n",
        "import tensorflow as tf\n",
        "from tensorflow.keras.layers import Dense, Flatten, Dropout, Conv2D, MaxPooling2D\n",
        "from tensorflow import keras\n",
        "import os\n",
        "import cv2"
      ]
    },
    {
      "cell_type": "code",
      "execution_count": 13,
      "metadata": {
        "id": "hZG4qWedhoe6"
      },
      "outputs": [],
      "source": [
        "labels = pd.read_csv('/content/drive/MyDrive/track_1_bucket_tooth/train/cls_labels-checkpoint-2.csv')\n",
        "labels_test = pd.read_csv('/content/drive/MyDrive/track_1_bucket_tooth/test/cls_labels-checkpoint.csv')"
      ]
    },
    {
      "cell_type": "code",
      "execution_count": 14,
      "metadata": {
        "id": "5E8Zhq_DhwqI"
      },
      "outputs": [],
      "source": [
        "labels = labels[['file_path','label']]"
      ]
    },
    {
      "cell_type": "code",
      "execution_count": 15,
      "metadata": {
        "id": "wsOqqB_fh0FN"
      },
      "outputs": [],
      "source": [
        "labels_test = labels_test[['file_path','label']]"
      ]
    },
    {
      "cell_type": "code",
      "execution_count": 16,
      "metadata": {
        "id": "niFmW98oh0lC"
      },
      "outputs": [],
      "source": [
        "def dataset_to_xy_format(data,path_to_data):\n",
        "    x = []\n",
        "    y = []\n",
        "    for i in np.arange(len(data)):\n",
        "        element = list(data.iloc[i])\n",
        "        y.append(element[1])\n",
        "        filename = os.path.join(os.path.abspath(os.path.dirname(path_to_data)), element[0])\n",
        "        img = cv2.imread(filename,cv2.IMREAD_GRAYSCALE)\n",
        "        print(filename)\n",
        "        if img is not None:\n",
        "            x.append(img)\n",
        "    return np.array(x),np.array(y)"
      ]
    },
    {
      "cell_type": "code",
      "execution_count": null,
      "metadata": {
        "colab": {
          "base_uri": "https://localhost:8080/"
        },
        "id": "GvZx9_J9h2Nz",
        "outputId": "4adb260c-940a-4af7-950f-d4ec3cffad96"
      },
      "outputs": [],
      "source": [
        "train_x, train_y = dataset_to_xy_format(labels, \"/content/drive/MyDrive/track_1_bucket_tooth/train/my_data/\")"
      ]
    },
    {
      "cell_type": "code",
      "execution_count": null,
      "metadata": {
        "colab": {
          "base_uri": "https://localhost:8080/"
        },
        "id": "i4yOiW34h3MW",
        "outputId": "4a81b040-2222-4222-b660-60eecf5bbef1"
      },
      "outputs": [],
      "source": [
        "test_x, test_y = dataset_to_xy_format(labels_test, \"/content/drive/MyDrive/track_1_bucket_tooth/test/my_data/\")"
      ]
    },
    {
      "cell_type": "code",
      "execution_count": 20,
      "metadata": {
        "id": "6bLJNslhh5kL"
      },
      "outputs": [],
      "source": [
        "y_train = keras.utils.to_categorical(train_y, 3)\n",
        "x_train = np.expand_dims(train_x, axis=3)\n",
        "y_test = keras.utils.to_categorical(test_y, 3)\n",
        "x_test = np.expand_dims(test_x, axis=3)"
      ]
    },
    {
      "cell_type": "code",
      "execution_count": null,
      "metadata": {
        "colab": {
          "base_uri": "https://localhost:8080/"
        },
        "id": "nKtl6qRJxAac",
        "outputId": "c3e7523f-8f81-412f-85ba-a681354f9f11"
      },
      "outputs": [],
      "source": [
        "x_train.shape"
      ]
    },
    {
      "cell_type": "code",
      "execution_count": 30,
      "metadata": {
        "id": "hkUyw-9sh7qt"
      },
      "outputs": [],
      "source": [
        "# Классификация надо поменять input_shape под размер входного изображения\n",
        "\n",
        "\n",
        "model = tf.keras.Sequential([\n",
        "   Conv2D(32, (3,3), padding='same', activation='relu', input_shape=(480, 640, 1)),  #x,y,z\n",
        "   MaxPooling2D((2, 2), strides=2),\n",
        "   Conv2D(64, (3,3), padding='same', activation='relu'),\n",
        "   MaxPooling2D((2, 2), strides=2),\n",
        "   Flatten(),\n",
        "   Dense(128, activation='relu'),\n",
        "   Dense(3, activation='softmax')\n",
        "])"
      ]
    },
    {
      "cell_type": "code",
      "execution_count": 31,
      "metadata": {
        "id": "MgyB5v74nX-J"
      },
      "outputs": [],
      "source": [
        "model.compile(optimizer='adam',\n",
        "             loss='categorical_crossentropy',\n",
        "             metrics=['accuracy',keras.metrics.Recall(),keras.metrics.Precision()])"
      ]
    },
    {
      "cell_type": "code",
      "execution_count": null,
      "metadata": {
        "colab": {
          "base_uri": "https://localhost:8080/"
        },
        "id": "3uDZrni9nVrx",
        "outputId": "5f84c66a-5f04-4b7e-d1bd-59151b2b1d59"
      },
      "outputs": [],
      "source": [
        "# train_x - картинки для тренировки\n",
        "# train_y - лейблы для тренировки\n",
        "# обучение классификатора\n",
        "\n",
        "this = model.fit(x_train,y_train, batch_size=64, epochs=10, validation_split=0.2)"
      ]
    },
    {
      "cell_type": "code",
      "execution_count": null,
      "metadata": {
        "colab": {
          "base_uri": "https://localhost:8080/"
        },
        "id": "ht1w4pcynZnE",
        "outputId": "c6c4d238-b01c-4585-877f-a4047fe2a791"
      },
      "outputs": [],
      "source": [
        "predicted = np.argmax(model.predict(x_test),axis=1)\n",
        "predicted_labels = labels_test.copy()"
      ]
    },
    {
      "cell_type": "code",
      "execution_count": 50,
      "metadata": {
        "id": "NkCs__Cs0TUJ"
      },
      "outputs": [],
      "source": [
        "predicted_labels['label'] = predicted"
      ]
    },
    {
      "cell_type": "code",
      "execution_count": 59,
      "metadata": {
        "id": "sX5beb5o1rS3"
      },
      "outputs": [],
      "source": [
        "predicted_labels = predicted_labels.rename(columns={\"file_path\": \"Id\", \"label\": \"Predicted\"})"
      ]
    },
    {
      "cell_type": "code",
      "execution_count": 60,
      "metadata": {
        "id": "jmwMCYLO0f2m"
      },
      "outputs": [],
      "source": [
        "predicted_labels.to_csv('predicted_labels.csv')"
      ]
    },
    {
      "cell_type": "code",
      "execution_count": null,
      "metadata": {
        "colab": {
          "base_uri": "https://localhost:8080/"
        },
        "id": "z6bRb40UyZMX",
        "outputId": "5504dd5d-23ba-4302-cd62-f1263426c513"
      },
      "outputs": [],
      "source": [
        "model.evaluate(x_test,y_test)"
      ]
    },
    {
      "cell_type": "code",
      "execution_count": 61,
      "metadata": {
        "id": "-qbAadd00-xr"
      },
      "outputs": [],
      "source": [
        "from sklearn.metrics import f1_score"
      ]
    },
    {
      "cell_type": "code",
      "execution_count": null,
      "metadata": {
        "colab": {
          "base_uri": "https://localhost:8080/"
        },
        "id": "nhN9SXQf2XKz",
        "outputId": "b04467d2-1afe-4d99-81f7-34a31cbd1587"
      },
      "outputs": [],
      "source": [
        "f1_score(test_y,predicted,average='macro')"
      ]
    }
  ],
  "metadata": {
    "accelerator": "GPU",
    "colab": {
      "provenance": []
    },
    "gpuClass": "standard",
    "kernelspec": {
      "display_name": "Python 3.10.0 64-bit",
      "language": "python",
      "name": "python3"
    },
    "language_info": {
      "codemirror_mode": {
        "name": "ipython",
        "version": 3
      },
      "file_extension": ".py",
      "mimetype": "text/x-python",
      "name": "python",
      "nbconvert_exporter": "python",
      "pygments_lexer": "ipython3",
      "version": "3.9.0"
    },
    "vscode": {
      "interpreter": {
        "hash": "aee8b7b246df8f9039afb4144a1f6fd8d2ca17a180786b69acc140d282b71a49"
      }
    }
  },
  "nbformat": 4,
  "nbformat_minor": 0
}
